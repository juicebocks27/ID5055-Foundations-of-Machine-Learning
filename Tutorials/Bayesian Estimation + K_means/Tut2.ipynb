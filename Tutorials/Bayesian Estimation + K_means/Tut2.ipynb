{
 "cells": [
  {
   "cell_type": "code",
   "execution_count": null,
   "id": "6bca22c4",
   "metadata": {},
   "outputs": [],
   "source": [
    "import pandas as pd\n",
    "import seaborn as sns"
   ]
  },
  {
   "cell_type": "code",
   "execution_count": null,
   "id": "be4fe95b",
   "metadata": {},
   "outputs": [],
   "source": [
    "# Load the dataset\n",
    "home_data = pd.read_csv('housing.csv', usecols = ['longitude','latitude','median_house_value'])\n",
    "home_data.head()"
   ]
  },
  {
   "cell_type": "code",
   "execution_count": null,
   "id": "c49fde66",
   "metadata": {},
   "outputs": [],
   "source": [
    "# Create a scatterplot using Seaborn to visualize data\n",
    "sns.scatterplot(data = home_data, x ='longitude', y = 'latitude', hue = 'median_house_value')"
   ]
  },
  {
   "cell_type": "code",
   "execution_count": null,
   "id": "eebd28d1",
   "metadata": {},
   "outputs": [],
   "source": [
    "# Split the dataset into training and test sets\n",
    "from sklearn.model_selection import train_test_split\n",
    "X_train,X_test,y_train,y_test = train_test_split(home_data[['latitude','longitude']], home_data[['median_house_value']], test_size = 0.33, random_state = 0)"
   ]
  },
  {
   "cell_type": "code",
   "execution_count": null,
   "id": "cabf5855",
   "metadata": {},
   "outputs": [],
   "source": [
    "# Normalize the data\n",
    "from sklearn import preprocessing\n",
    "X_train_norm = preprocessing.normalize(X_train)\n",
    "X_test_norm = preprocessing.normalize(X_test)"
   ]
  },
  {
   "cell_type": "code",
   "execution_count": null,
   "id": "f638c37d",
   "metadata": {},
   "outputs": [],
   "source": [
    "from sklearn.cluster import KMeans\n",
    "\n",
    "# Create a K-Means clustering model\n",
    "kmeans = KMeans(n_clusters = 4, random_state = 0, n_init = 'auto')\n",
    "kmeans.fit(X_train_norm)"
   ]
  },
  {
   "cell_type": "code",
   "execution_count": null,
   "id": "4ccbac9d",
   "metadata": {},
   "outputs": [],
   "source": [
    "# Create a scatterplot using Seaborn to visualize data\n",
    "sns.scatterplot(data = X_train, x = 'longitude', y = 'latitude', hue = kmeans.labels_)"
   ]
  },
  {
   "cell_type": "code",
   "execution_count": null,
   "id": "59608d99",
   "metadata": {},
   "outputs": [],
   "source": [
    "from sklearn.metrics import silhouette_score\n",
    "\n",
    "# Create a dictionary to store Silhouette Scores for different k values\n",
    "sil = {}\n",
    "sil_test = {}\n",
    "\n",
    "# Range of k values to consider\n",
    "k_values = range(2, 8)\n",
    "\n",
    "for k in k_values:\n",
    "    kmeans = KMeans(n_clusters = k, random_state = 0, n_init='auto')\n",
    "    kmeans.fit(X_train_norm)\n",
    "\n",
    "    # Get cluster labels for the test set (X_test_norm)\n",
    "    labels_test = kmeans.predict(X_test_norm)\n",
    "    sil_test[k] = silhouette_score(X_test_norm, labels_test, metric = 'euclidean')\n",
    "\n",
    "    print(\"Silhouette Score for k on test set =\", k, \"is\", sil_test[k])\n",
    "    print(\"\")\n",
    "\n",
    "# Find the k with the maximum Silhouette Score\n",
    "best_k = max(sil_test, key = sil_test.get)"
   ]
  },
  {
   "cell_type": "code",
   "execution_count": null,
   "id": "e52fc73a",
   "metadata": {},
   "outputs": [],
   "source": [
    "print(\"Best k:\", best_k)\n",
    "print(\"Silhouette Score for best k:\", sil_test[best_k])"
   ]
  },
  {
   "cell_type": "markdown",
   "id": "cfca0c48",
   "metadata": {},
   "source": []
  }
 ],
 "metadata": {
  "kernelspec": {
   "display_name": "Python 3 (ipykernel)",
   "language": "python",
   "name": "python3"
  },
  "language_info": {
   "codemirror_mode": {
    "name": "ipython",
    "version": 3
   },
   "file_extension": ".py",
   "mimetype": "text/x-python",
   "name": "python",
   "nbconvert_exporter": "python",
   "pygments_lexer": "ipython3",
   "version": "3.11.5"
  }
 },
 "nbformat": 4,
 "nbformat_minor": 5
}
