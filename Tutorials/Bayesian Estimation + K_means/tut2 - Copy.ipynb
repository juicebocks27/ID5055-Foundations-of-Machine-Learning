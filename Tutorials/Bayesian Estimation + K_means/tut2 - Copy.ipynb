{
 "cells": [
  {
   "cell_type": "code",
   "execution_count": null,
   "metadata": {},
   "outputs": [],
   "source": [
    "Visualisation\n",
    "scatterplot using seaborn with x = longitude, y = latitude and median house, hue values\n",
    "\n",
    "Normalize the data\n",
    "train_test_split\n",
    "X = home_data[[langitude, latitude]]\n",
    "y = home_data[[median_house_value]]\n",
    "\n",
    "from sklearn import preprocessing\n",
    "X_train_norm = prerocessing.normalize(X_train)\n",
    "Similar for X_test_norm\n",
    "\n",
    "Fitting and evaluating the model\n",
    "from sklearn.cluster import KMeans\n",
    "kmeans = KMeans(n_clusters = 3, random_state = 0, n_init = 'auto')\n",
    "kmeans.fit(X_train_norm\n",
    "\n",
    "sns.scattterplot(data = X_train, x = 'longitude', y = 'longitude', hue=kmeans.labels_)\n",
    "\n",
    "\n",
    "from sklearn.metrics import silhouette score\n",
    "silhouette_score(X_train_norm, kmeans.labels_,metrics = 'euclidean'\n",
    "\n",
    "\n",
    "exercise :\n",
    "Run for different values within interval [2,7] and identify best k"
   ]
  },
  {
   "cell_type": "code",
   "execution_count": null,
   "metadata": {},
   "outputs": [],
   "source": []
  }
 ],
 "metadata": {
  "kernelspec": {
   "display_name": "Python 3",
   "language": "python",
   "name": "python3"
  },
  "language_info": {
   "codemirror_mode": {
    "name": "ipython",
    "version": 3
   },
   "file_extension": ".py",
   "mimetype": "text/x-python",
   "name": "python",
   "nbconvert_exporter": "python",
   "pygments_lexer": "ipython3",
   "version": "3.11.5"
  },
  "orig_nbformat": 4
 },
 "nbformat": 4,
 "nbformat_minor": 2
}
