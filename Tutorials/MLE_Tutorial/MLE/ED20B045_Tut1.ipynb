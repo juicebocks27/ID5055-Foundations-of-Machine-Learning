{
 "cells": [
  {
   "cell_type": "code",
   "execution_count": 1,
   "id": "a1eb36b8",
   "metadata": {},
   "outputs": [],
   "source": [
    "import numpy as np\n",
    "import pandas as pd\n",
    "import matplotlib.pyplot as plt\n",
    "from scipy.optimize import minimize"
   ]
  },
  {
   "cell_type": "code",
   "execution_count": 2,
   "id": "896fbf51",
   "metadata": {},
   "outputs": [],
   "source": [
    "df = pd.read_csv('student-por_2.csv', sep=';')"
   ]
  },
  {
   "cell_type": "code",
   "execution_count": 3,
   "id": "e66ed9e8",
   "metadata": {},
   "outputs": [
    {
     "data": {
      "text/plain": [
       "<bound method NDFrame.head of     school sex  age address famsize Pstatus  Medu  Fedu      Mjob      Fjob  \\\n",
       "0       GP   F   18       U     GT3       A     4     4   at_home   teacher   \n",
       "1       GP   F   17       U     GT3       T     1     1   at_home     other   \n",
       "2       GP   F   15       U     LE3       T     1     1   at_home     other   \n",
       "3       GP   F   15       U     GT3       T     4     2    health  services   \n",
       "4       GP   F   16       U     GT3       T     3     3     other     other   \n",
       "..     ...  ..  ...     ...     ...     ...   ...   ...       ...       ...   \n",
       "644     MS   F   19       R     GT3       T     2     3  services     other   \n",
       "645     MS   F   18       U     LE3       T     3     1   teacher  services   \n",
       "646     MS   F   18       U     GT3       T     1     1     other     other   \n",
       "647     MS   M   17       U     LE3       T     3     1  services  services   \n",
       "648     MS   M   18       R     LE3       T     3     2  services     other   \n",
       "\n",
       "     ... famrel freetime  goout  Dalc  Walc health absences  G1  G2  G3  \n",
       "0    ...      4        3      4     1     1      3        4   0  11  11  \n",
       "1    ...      5        3      3     1     1      3        2   9  11  11  \n",
       "2    ...      4        3      2     2     3      3        6  12  13  12  \n",
       "3    ...      3        2      2     1     1      5        0  14  14  14  \n",
       "4    ...      4        3      2     1     2      5        0  11  13  13  \n",
       "..   ...    ...      ...    ...   ...   ...    ...      ...  ..  ..  ..  \n",
       "644  ...      5        4      2     1     2      5        4  10  11  10  \n",
       "645  ...      4        3      4     1     1      1        4  15  15  16  \n",
       "646  ...      1        1      1     1     1      5        6  11  12   9  \n",
       "647  ...      2        4      5     3     4      2        6  10  10  10  \n",
       "648  ...      4        4      1     3     4      5        4  10  11  11  \n",
       "\n",
       "[649 rows x 33 columns]>"
      ]
     },
     "execution_count": 3,
     "metadata": {},
     "output_type": "execute_result"
    }
   ],
   "source": [
    "df.head"
   ]
  },
  {
   "cell_type": "code",
   "execution_count": 4,
   "id": "7eba0231",
   "metadata": {},
   "outputs": [
    {
     "data": {
      "text/plain": [
       "(array([  1.,   0.,   7.,  42., 107., 186., 154., 106.,  38.,   8.]),\n",
       " array([ 0. ,  1.9,  3.8,  5.7,  7.6,  9.5, 11.4, 13.3, 15.2, 17.1, 19. ]),\n",
       " <BarContainer object of 10 artists>)"
      ]
     },
     "execution_count": 4,
     "metadata": {},
     "output_type": "execute_result"
    },
    {
     "data": {
      "image/png": "[encoded data removed]",
      "text/plain": [
       "<Figure size 640x480 with 1 Axes>"
      ]
     },
     "metadata": {},
     "output_type": "display_data"
    }
   ],
   "source": [
    "plt.hist(df['G1'])"
   ]
  },
  {
   "cell_type": "markdown",
   "id": "4169d8da",
   "metadata": {},
   "source": [
    "## It looks like a Normal Distribution."
   ]
  },
  {
   "cell_type": "code",
   "execution_count": 5,
   "id": "9868a4b0",
   "metadata": {},
   "outputs": [],
   "source": [
    "def return_params(data):\n",
    "    mean = np.mean(data)\n",
    "    std_dev = np.std(data)\n",
    "    return [mean, std_dev]"
   ]
  },
  {
   "cell_type": "code",
   "execution_count": 6,
   "id": "4486bffa",
   "metadata": {},
   "outputs": [],
   "source": [
    "params = return_params(df['G1'])"
   ]
  },
  {
   "cell_type": "code",
   "execution_count": 7,
   "id": "75316e6c",
   "metadata": {},
   "outputs": [
    {
     "name": "stdout",
     "output_type": "stream",
     "text": [
      "[11.399075500770415, 2.7431493168577212]\n"
     ]
    }
   ],
   "source": [
    "print(params)"
   ]
  },
  {
   "cell_type": "code",
   "execution_count": 16,
   "id": "4c56de03",
   "metadata": {},
   "outputs": [],
   "source": [
    "# Calculate the negative log-likelihood of a dataset under a normal distribution. Minimizing this function provides us with the maximum likelihood estimation.\n",
    "\n",
    "def likelihood_fn(params,data):\n",
    "    '''\n",
    "    param = parameters of distribution - [mean,standard deviation]\n",
    "    data = data from distribution\n",
    "    '''\n",
    "    mean = params[0]\n",
    "    std_dev = params[1] \n",
    "    exponent = -((data - mean) ** 2) / (2 * std_dev ** 2)\n",
    "    pdf = (1 / (std_dev * np.sqrt(2 * np.pi))) * np.exp(exponent)\n",
    "    pdf[pdf==0]=np.finfo(float).eps\n",
    "    log_like = np.log(pdf)\n",
    "    return -np.sum(log_like)"
   ]
  },
  {
   "cell_type": "code",
   "execution_count": 17,
   "id": "fa673b1f",
   "metadata": {},
   "outputs": [
    {
     "name": "stdout",
     "output_type": "stream",
     "text": [
      "The parameters [Mean, Standard Deviation] obtained by maximising log likelihood for initial guess (i, 2 + (i/10)) are\n",
      "Parameters obtained: [11.39898048  2.74345888] \t Initial Guess: (0, 1.0)\n",
      "Parameters obtained: [11.39918821  2.7427911 ] \t Initial Guess: (1, 1.1)\n",
      "Parameters obtained: [11.39908643  2.74311601] \t Initial Guess: (2, 1.2)\n",
      "Parameters obtained: [11.39907437  2.7431526 ] \t Initial Guess: (3, 1.3)\n",
      "Parameters obtained: [11.3989558   2.74347782] \t Initial Guess: (4, 1.4)\n",
      "Parameters obtained: [11.39895203  2.74346604] \t Initial Guess: (5, 1.5)\n",
      "Parameters obtained: [11.39896881  2.74340064] \t Initial Guess: (6, 1.6)\n",
      "Parameters obtained: [11.39887196  2.74357691] \t Initial Guess: (7, 1.7)\n",
      "Parameters obtained: [11.399179    2.74296256] \t Initial Guess: (8, 1.8)\n",
      "Parameters obtained: [11.39933335  2.74278153] \t Initial Guess: (9, 1.9)\n",
      "Parameters obtained: [11.3990755   2.74314878] \t Initial Guess: (10, 2.0)\n",
      "Parameters obtained: [11.39909813  2.74314229] \t Initial Guess: (11, 2.1)\n",
      "Parameters obtained: [11.39907551  2.74314763] \t Initial Guess: (12, 2.2)\n",
      "Parameters obtained: [11.39903409  2.74307442] \t Initial Guess: (13, 2.3)\n",
      "Parameters obtained: [11.39908344  2.74317934] \t Initial Guess: (14, 2.4)\n",
      "Parameters obtained: [11.39907627  2.74315503] \t Initial Guess: (15, 2.5)\n",
      "Parameters obtained: [11.3990755   2.74314934] \t Initial Guess: (16, 2.6)\n",
      "Parameters obtained: [11.3990754   2.74314892] \t Initial Guess: (17, 2.7)\n",
      "Parameters obtained: [11.3990755   2.74315067] \t Initial Guess: (18, 2.8)\n",
      "Parameters obtained: [11.39907551  2.74314913] \t Initial Guess: (19, 2.9)\n"
     ]
    }
   ],
   "source": [
    "print(\"The parameters [Mean, Standard Deviation] obtained by maximising log likelihood for initial guess (i, 2 + (i/10)) are\")\n",
    "for i in range(0, 20):\n",
    "    j = 1 + (i/10)\n",
    "    sol = minimize(likelihood_fn, [i, j], args = df['G1'], method = 'Powell')\n",
    "    print(\"Parameters obtained:\", sol.x, \"\\t Initial Guess:\", (i,j))"
   ]
  },
  {
   "cell_type": "code",
   "execution_count": null,
   "id": "00a503b3",
   "metadata": {},
   "outputs": [],
   "source": []
  }
 ],
 "metadata": {
  "kernelspec": {
   "display_name": "Python 3 (ipykernel)",
   "language": "python",
   "name": "python3"
  },
  "language_info": {
   "codemirror_mode": {
    "name": "ipython",
    "version": 3
   },
   "file_extension": ".py",
   "mimetype": "text/x-python",
   "name": "python",
   "nbconvert_exporter": "python",
   "pygments_lexer": "ipython3",
   "version": "3.11.4"
  }
 },
 "nbformat": 4,
 "nbformat_minor": 5
}
