{
 "cells": [
  {
   "cell_type": "code",
   "execution_count": 1,
   "id": "a1eb36b8",
   "metadata": {},
   "outputs": [],
   "source": [
    "import numpy as np\n",
    "import pandas as pd\n",
    "import matplotlib.pyplot as plt\n",
    "from scipy.optimize import minimize"
   ]
  },
  {
   "cell_type": "code",
   "execution_count": 3,
   "id": "896fbf51",
   "metadata": {},
   "outputs": [
    {
     "data": {
      "text/plain": [
       "<bound method NDFrame.head of     school sex  age address famsize Pstatus  Medu  Fedu      Mjob      Fjob  \\\n",
       "0       GP   F   18       U     GT3       A     4     4   at_home   teacher   \n",
       "1       GP   F   17       U     GT3       T     1     1   at_home     other   \n",
       "2       GP   F   15       U     LE3       T     1     1   at_home     other   \n",
       "3       GP   F   15       U     GT3       T     4     2    health  services   \n",
       "4       GP   F   16       U     GT3       T     3     3     other     other   \n",
       "..     ...  ..  ...     ...     ...     ...   ...   ...       ...       ...   \n",
       "644     MS   F   19       R     GT3       T     2     3  services     other   \n",
       "645     MS   F   18       U     LE3       T     3     1   teacher  services   \n",
       "646     MS   F   18       U     GT3       T     1     1     other     other   \n",
       "647     MS   M   17       U     LE3       T     3     1  services  services   \n",
       "648     MS   M   18       R     LE3       T     3     2  services     other   \n",
       "\n",
       "     ... famrel freetime  goout  Dalc  Walc health absences  G1  G2  G3  \n",
       "0    ...      4        3      4     1     1      3        4   0  11  11  \n",
       "1    ...      5        3      3     1     1      3        2   9  11  11  \n",
       "2    ...      4        3      2     2     3      3        6  12  13  12  \n",
       "3    ...      3        2      2     1     1      5        0  14  14  14  \n",
       "4    ...      4        3      2     1     2      5        0  11  13  13  \n",
       "..   ...    ...      ...    ...   ...   ...    ...      ...  ..  ..  ..  \n",
       "644  ...      5        4      2     1     2      5        4  10  11  10  \n",
       "645  ...      4        3      4     1     1      1        4  15  15  16  \n",
       "646  ...      1        1      1     1     1      5        6  11  12   9  \n",
       "647  ...      2        4      5     3     4      2        6  10  10  10  \n",
       "648  ...      4        4      1     3     4      5        4  10  11  11  \n",
       "\n",
       "[649 rows x 33 columns]>"
      ]
     },
     "execution_count": 3,
     "metadata": {},
     "output_type": "execute_result"
    }
   ],
   "source": [
    "df=pd.read_csv('student-por_2.csv',sep=';')\n",
    "df.head"
   ]
  },
  {
   "cell_type": "code",
   "execution_count": 6,
   "id": "7eba0231",
   "metadata": {},
   "outputs": [
    {
     "data": {
      "text/plain": [
       "(array([373., 154.,  52.,  38.,  11.,  13.,   4.,   1.,   1.,   2.]),\n",
       " array([ 0. ,  3.2,  6.4,  9.6, 12.8, 16. , 19.2, 22.4, 25.6, 28.8, 32. ]),\n",
       " <BarContainer object of 10 artists>)"
      ]
     },
     "execution_count": 6,
     "metadata": {},
     "output_type": "execute_result"
    },
    {
     "data": {
      "image/png": "[encoded data removed]",
      "text/plain": [
       "<Figure size 640x480 with 1 Axes>"
      ]
     },
     "metadata": {},
     "output_type": "display_data"
    }
   ],
   "source": [
    "plt.hist(df['absences'])"
   ]
  },
  {
   "cell_type": "markdown",
   "id": "8c1a8e6f",
   "metadata": {},
   "source": []
  },
  {
   "cell_type": "code",
   "execution_count": 7,
   "id": "9868a4b0",
   "metadata": {},
   "outputs": [],
   "source": [
    "def lamb_exp(data):\n",
    "    return 1/(np.mean(data))"
   ]
  },
  {
   "cell_type": "code",
   "execution_count": 8,
   "id": "4486bffa",
   "metadata": {},
   "outputs": [],
   "source": [
    "lam = lamb_exp(df['absences'])"
   ]
  },
  {
   "cell_type": "code",
   "execution_count": 9,
   "id": "75316e6c",
   "metadata": {},
   "outputs": [
    {
     "name": "stdout",
     "output_type": "stream",
     "text": [
      "0.2732631578947368\n"
     ]
    }
   ],
   "source": [
    "print(lam)"
   ]
  },
  {
   "cell_type": "code",
   "execution_count": 14,
   "id": "4c56de03",
   "metadata": {},
   "outputs": [],
   "source": [
    "def likelihood_fn(param,data):\n",
    "    '''\n",
    "    param = parameters of distribution\n",
    "    data = data from distribution\n",
    "    '''\n",
    "    lam = param\n",
    "    pdf = lam*np.exp(-lam*data)\n",
    "    pdf[pdf<=0]=np.finfo(float).eps\n",
    "    log_like = np.log(pdf)\n",
    "    return - np.sum(log_like)"
   ]
  },
  {
   "cell_type": "code",
   "execution_count": 15,
   "id": "fa673b1f",
   "metadata": {},
   "outputs": [
    {
     "name": "stdout",
     "output_type": "stream",
     "text": [
      "[0.27326316] 0\n",
      "[0.27326218] 1\n",
      "[0.27326218] 2\n",
      "[0.27326218] 3\n",
      "[0.27326218] 4\n",
      "[0.27326218] 5\n",
      "[0.27326218] 6\n",
      "[0.27326218] 7\n",
      "[0.27326218] 8\n",
      "[0.27326218] 9\n"
     ]
    }
   ],
   "source": [
    "for i in range(10):\n",
    "    sol = minimize(likelihood_fn,i,args = df['absences'],method = 'Powell',bounds = ((0,None),))\n",
    "    print(sol.x,i)\n"
   ]
  },
  {
   "cell_type": "code",
   "execution_count": null,
   "id": "6e4c368b",
   "metadata": {},
   "outputs": [],
   "source": []
  }
 ],
 "metadata": {
  "kernelspec": {
   "display_name": "Python 3 (ipykernel)",
   "language": "python",
   "name": "python3"
  },
  "language_info": {
   "codemirror_mode": {
    "name": "ipython",
    "version": 3
   },
   "file_extension": ".py",
   "mimetype": "text/x-python",
   "name": "python",
   "nbconvert_exporter": "python",
   "pygments_lexer": "ipython3",
   "version": "3.11.4"
  }
 },
 "nbformat": 4,
 "nbformat_minor": 5
}
