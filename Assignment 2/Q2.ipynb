{
  "cells": [
    {
      "cell_type": "markdown",
      "metadata": {},
      "source": [
        "# Q2"
      ]
    },
    {
      "cell_type": "code",
      "execution_count": 4,
      "metadata": {
        "id": "Pu-AHK2_iQ-g"
      },
      "outputs": [],
      "source": [
        "import numpy as np\n",
        "import pandas as pd\n",
        "from scipy.optimize import minimize\n",
        "import warnings"
      ]
    },
    {
      "cell_type": "code",
      "execution_count": 5,
      "metadata": {},
      "outputs": [],
      "source": [
        "warnings.filterwarnings('ignore')"
      ]
    },
    {
      "cell_type": "code",
      "execution_count": 6,
      "metadata": {
        "id": "2oyUpxK83zXp"
      },
      "outputs": [],
      "source": [
        "data = pd.read_csv('Weibull.csv')"
      ]
    },
    {
      "cell_type": "code",
      "execution_count": 7,
      "metadata": {
        "id": "yoNtazpp31yi"
      },
      "outputs": [],
      "source": [
        "k = 2\n",
        "n = len(data)"
      ]
    },
    {
      "cell_type": "code",
      "execution_count": 9,
      "metadata": {
        "id": "EjgC0c3D6b0_"
      },
      "outputs": [],
      "source": [
        "def likelihood_fn_weibull(lamda, data):\n",
        "    if lamda <= 0:\n",
        "        return np.inf  # Return a large positive value for invalid lamda\n",
        "    log_likelihood = -np.sum(np.log(2) - 2 * np.log(lamda) + np.log(data) - (data / lamda) ** 2)\n",
        "    return log_likelihood"
      ]
    },
    {
      "cell_type": "code",
      "execution_count": 10,
      "metadata": {
        "colab": {
          "base_uri": "https://localhost:8080/"
        },
        "id": "ys77h99L7Dtz",
        "outputId": "dc29df38-ea38-450e-a50d-4bf75355be4d"
      },
      "outputs": [
        {
          "name": "stdout",
          "output_type": "stream",
          "text": [
            "[6.58194043] 0\n",
            "[6.58154638] 1\n",
            "[6.58154641] 2\n",
            "[6.58154637] 3\n",
            "[6.58154635] 4\n",
            "[6.58154633] 5\n",
            "[6.58154639] 6\n",
            "[6.58154364] 7\n",
            "[6.58154364] 8\n",
            "[6.58154364] 9\n"
          ]
        }
      ],
      "source": [
        "for i in range(10):\n",
        "    bounds = [(1e-6, None)]  # Set bounds to ensure lambda remains positive\n",
        "    lam_weibull = minimize(likelihood_fn_weibull, i, args=(data['X'],), method='Powell', bounds=bounds)\n",
        "    print(lam_weibull.x, i)"
      ]
    },
    {
      "cell_type": "code",
      "execution_count": 11,
      "metadata": {
        "colab": {
          "base_uri": "https://localhost:8080/"
        },
        "id": "D6kKI6Kq9xZ3",
        "outputId": "c2160298-8d77-4ae6-b26c-79f2661a9396"
      },
      "outputs": [
        {
          "data": {
            "text/plain": [
              "6.581546404774335"
            ]
          },
          "execution_count": 11,
          "metadata": {},
          "output_type": "execute_result"
        }
      ],
      "source": [
        "#Verifying by my paper calculation\n",
        "sqred_sum = 0\n",
        "for i in data.X:\n",
        "  sqred_sum += i ** 2\n",
        "lam_weibull_calc = (sqred_sum / n) ** 0.5\n",
        "lam_weibull_calc"
      ]
    },
    {
      "cell_type": "code",
      "execution_count": 12,
      "metadata": {
        "id": "r-YhbJJu-PwJ"
      },
      "outputs": [],
      "source": [
        "def likelihood_fn_rayleigh(sigma, data):\n",
        "    if sigma <= 0:\n",
        "        return -np.inf  # Return negative infinity for invalid sigma\n",
        "    return -np.sum(-2 * np.log(sigma) + np.log(data) - 0.25 * (data / sigma) ** 2)"
      ]
    },
    {
      "cell_type": "code",
      "execution_count": 13,
      "metadata": {
        "colab": {
          "base_uri": "https://localhost:8080/"
        },
        "id": "UqFI5e2w-qla",
        "outputId": "fa341bcc-5d13-4d37-ec07-136678f342d4"
      },
      "outputs": [
        {
          "name": "stdout",
          "output_type": "stream",
          "text": [
            "[3.29074687] 0\n",
            "[3.2907732] 1\n",
            "[3.2907732] 2\n",
            "[3.29077318] 3\n",
            "[3.29076151] 4\n",
            "[3.29076151] 5\n",
            "[3.29076151] 6\n",
            "[3.29076151] 7\n",
            "[3.29076152] 8\n",
            "[3.29076151] 9\n"
          ]
        }
      ],
      "source": [
        "for i in range(0,10):\n",
        "  bounds = [(1e-6, None)]  # Set bounds to ensure sigma remains positive\n",
        "  sigma_rayleigh = minimize(likelihood_fn_rayleigh, i, args = (data['X'],), method = 'Powell', bounds = bounds)\n",
        "  print(sigma_rayleigh.x, i)"
      ]
    },
    {
      "cell_type": "code",
      "execution_count": 14,
      "metadata": {
        "colab": {
          "base_uri": "https://localhost:8080/"
        },
        "id": "egC-QO82_teI",
        "outputId": "6d4e4744-7d9f-4be1-fc0f-82bf3bb00f22"
      },
      "outputs": [
        {
          "data": {
            "text/plain": [
              "4.653856093509875"
            ]
          },
          "execution_count": 14,
          "metadata": {},
          "output_type": "execute_result"
        }
      ],
      "source": [
        "sigma_rayleigh_calc = (0.5 * sqred_sum / n) ** 0.5\n",
        "sigma_rayleigh_calc"
      ]
    },
    {
      "cell_type": "code",
      "execution_count": 15,
      "metadata": {
        "colab": {
          "base_uri": "https://localhost:8080/"
        },
        "id": "HU2CKdod368p",
        "outputId": "0d7dfe14-5e26-4763-a8b1-acf2760f6723"
      },
      "outputs": [
        {
          "name": "stdout",
          "output_type": "stream",
          "text": [
            "MLE estimate of λ (Weibull): 6.581546404774335\n",
            "MLE estimate of σ (Rayleigh): 4.653856093509875\n"
          ]
        }
      ],
      "source": [
        "print(\"MLE estimate of λ (Weibull):\", lam_weibull_calc)\n",
        "print(\"MLE estimate of σ (Rayleigh):\", sigma_rayleigh_calc)"
      ]
    }
  ],
  "metadata": {
    "colab": {
      "provenance": []
    },
    "kernelspec": {
      "display_name": "Python 3",
      "name": "python3"
    },
    "language_info": {
      "codemirror_mode": {
        "name": "ipython",
        "version": 3
      },
      "file_extension": ".py",
      "mimetype": "text/x-python",
      "name": "python",
      "nbconvert_exporter": "python",
      "pygments_lexer": "ipython3",
      "version": "3.11.5"
    }
  },
  "nbformat": 4,
  "nbformat_minor": 0
}
