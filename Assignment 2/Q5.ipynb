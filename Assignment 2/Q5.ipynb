{
  "cells": [
    {
      "cell_type": "markdown",
      "metadata": {},
      "source": [
        "# Q5"
      ]
    },
    {
      "cell_type": "code",
      "execution_count": 9,
      "metadata": {
        "id": "gxJa8p6ff4O6"
      },
      "outputs": [],
      "source": [
        "import numpy as np\n",
        "import pandas as pd\n",
        "from scipy.optimize import minimize"
      ]
    },
    {
      "cell_type": "code",
      "execution_count": 10,
      "metadata": {
        "id": "GbiNWGWMf82V"
      },
      "outputs": [],
      "source": [
        "data = pd.read_csv('Rayleigh.csv')"
      ]
    },
    {
      "cell_type": "code",
      "execution_count": 11,
      "metadata": {},
      "outputs": [],
      "source": [
        "# Define the likelihood function (Rayleigh distribution)\n",
        "def likelihood(sigma, data):\n",
        "    return np.prod(data / sigma**2 * np.exp(-data**2 / (2 * sigma**2)))"
      ]
    },
    {
      "cell_type": "code",
      "execution_count": 12,
      "metadata": {
        "id": "HtTr_Li9gDh3"
      },
      "outputs": [],
      "source": [
        "# Define the log likelihood function (to be used with minimize)\n",
        "def log_likelihood(sigma, data):\n",
        "    return -np.sum(- np.log(data) + np.log(sigma**2) + data**2 / (2 * sigma**2))"
      ]
    },
    {
      "cell_type": "code",
      "execution_count": 13,
      "metadata": {
        "id": "wy1QbO_5hhpi"
      },
      "outputs": [],
      "source": [
        "# Define the log prior function (Normal distribution prior)\n",
        "def log_prior(sigma):\n",
        "    mu = 15\n",
        "    sigma_prior = 3\n",
        "    return -0.5 * ((sigma - mu) / sigma_prior)**2 - np.log(sigma_prior * np.sqrt(2 * np.pi))"
      ]
    },
    {
      "cell_type": "code",
      "execution_count": 14,
      "metadata": {
        "id": "JKM87uEOhkNF"
      },
      "outputs": [],
      "source": [
        "# Define the log posterior function (sum of log likelihood and log prior)\n",
        "def log_posterior(sigma, data):\n",
        "    return log_likelihood(sigma, data) + log_prior(sigma)"
      ]
    },
    {
      "cell_type": "code",
      "execution_count": 15,
      "metadata": {
        "colab": {
          "base_uri": "https://localhost:8080/"
        },
        "id": "enrj6sfthl1r",
        "outputId": "469a7557-34ea-4b11-ce00-40ea37315d39"
      },
      "outputs": [],
      "source": [
        "# Initial guess for sigma\n",
        "initial_sigma = 1\n",
        "result = minimize(lambda sigma: -log_posterior(sigma, data), initial_sigma, method='BFGS')"
      ]
    },
    {
      "cell_type": "code",
      "execution_count": 16,
      "metadata": {
        "colab": {
          "base_uri": "https://localhost:8080/"
        },
        "id": "sC9Y6Epohoxp",
        "outputId": "f8473880-f118-4fa8-d8bf-78f0841965dd"
      },
      "outputs": [
        {
          "name": "stdout",
          "output_type": "stream",
          "text": [
            "MAP estimate for sigma: 6.461205744701753\n"
          ]
        }
      ],
      "source": [
        "# The MAP estimate for sigma is in result.x\n",
        "map_estimate_sigma = result.x[0]\n",
        "\n",
        "print(\"MAP estimate for sigma:\", map_estimate_sigma)"
      ]
    }
  ],
  "metadata": {
    "colab": {
      "provenance": []
    },
    "kernelspec": {
      "display_name": "Python 3",
      "name": "python3"
    },
    "language_info": {
      "codemirror_mode": {
        "name": "ipython",
        "version": 3
      },
      "file_extension": ".py",
      "mimetype": "text/x-python",
      "name": "python",
      "nbconvert_exporter": "python",
      "pygments_lexer": "ipython3",
      "version": "3.11.5"
    }
  },
  "nbformat": 4,
  "nbformat_minor": 0
}
