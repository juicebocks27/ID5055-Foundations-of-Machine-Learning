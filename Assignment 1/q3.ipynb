{
 "cells": [
  {
   "cell_type": "markdown",
   "metadata": {},
   "source": [
    "## 3. Generate a data matrix, X with 200 samples and 10 features. (You can assume any distribution)."
   ]
  },
  {
   "cell_type": "code",
   "execution_count": 1,
   "metadata": {},
   "outputs": [],
   "source": [
    "# importing necessary packages\n",
    "import numpy as np\n",
    "import matplotlib as plt"
   ]
  },
  {
   "cell_type": "code",
   "execution_count": 37,
   "metadata": {},
   "outputs": [],
   "source": [
    "# seed to get constant values\n",
    "np.random.seed(42)"
   ]
  },
  {
   "cell_type": "markdown",
   "metadata": {},
   "source": [
    "Let us assume normal distribution"
   ]
  },
  {
   "cell_type": "code",
   "execution_count": 38,
   "metadata": {},
   "outputs": [],
   "source": [
    "# generate a normal dataset\n",
    "X = np.random.normal(0, 2, size = (200,10))"
   ]
  },
  {
   "cell_type": "markdown",
   "metadata": {},
   "source": [
    "### (a) Perform PCA on the matrix and get the first 2 principal components for all the samples"
   ]
  },
  {
   "cell_type": "code",
   "execution_count": 39,
   "metadata": {},
   "outputs": [],
   "source": [
    "# SVD\n",
    "U,S,Vt = np.linalg.svd(X)"
   ]
  },
  {
   "cell_type": "code",
   "execution_count": 40,
   "metadata": {},
   "outputs": [
    {
     "name": "stdout",
     "output_type": "stream",
     "text": [
      "(200, 200) (10,) (10, 10)\n"
     ]
    }
   ],
   "source": [
    "print(U.shape,S.shape,Vt.shape)"
   ]
  },
  {
   "cell_type": "code",
   "execution_count": 41,
   "metadata": {},
   "outputs": [],
   "source": [
    "# Function to get the principal components \n",
    "def get_principal_comps (X, Vt,n):\n",
    "    # X: data matrix, Vt: right singular matrix\n",
    "    PC = X@(Vt.T)\n",
    "    return PC[:,:n]"
   ]
  },
  {
   "cell_type": "code",
   "execution_count": 42,
   "metadata": {},
   "outputs": [],
   "source": [
    "# perform PCA and get the first 2 principal components for all samples\n",
    "PC = get_principal_comps(X,Vt,2)"
   ]
  },
  {
   "cell_type": "code",
   "execution_count": 43,
   "metadata": {},
   "outputs": [
    {
     "name": "stdout",
     "output_type": "stream",
     "text": [
      "[[ 2.49709594 -0.83997717]\n",
      " [-1.57825482  2.69370692]\n",
      " [-1.12753302  2.63318681]\n",
      " [-4.33505452  0.7743873 ]\n",
      " [-1.35639119  0.69920028]\n",
      " [ 0.99089568 -0.3587793 ]\n",
      " [-0.87945984 -2.62018755]\n",
      " [-0.59341777  0.03773606]\n",
      " [ 0.18302839  1.04688458]\n",
      " [-2.22860789 -1.14654354]]\n"
     ]
    }
   ],
   "source": [
    "print(PC[0:10])"
   ]
  },
  {
   "cell_type": "code",
   "execution_count": 44,
   "metadata": {},
   "outputs": [],
   "source": [
    "# function to obtain variance explained\n",
    "def get_var(S,n):\n",
    "    # S: vector of single values\n",
    "    eig = S**2\n",
    "    return eig[n]/np.sum(eig)\n"
   ]
  },
  {
   "cell_type": "code",
   "execution_count": 45,
   "metadata": {},
   "outputs": [
    {
     "name": "stdout",
     "output_type": "stream",
     "text": [
      "0.12332788940034294\n"
     ]
    }
   ],
   "source": [
    "first_comp_var_exp = get_var(S,1)\n",
    "print(first_comp_var_exp)"
   ]
  },
  {
   "cell_type": "code",
   "execution_count": 46,
   "metadata": {},
   "outputs": [
    {
     "name": "stdout",
     "output_type": "stream",
     "text": [
      "0.11835069469664507\n"
     ]
    }
   ],
   "source": [
    "second_comp_var_exp = get_var(S,2)\n",
    "print(second_comp_var_exp)"
   ]
  },
  {
   "cell_type": "markdown",
   "metadata": {},
   "source": [
    "### (b) Calculate the sum of the distance between all the samples and the plane formed by the obtained 2 principal components."
   ]
  },
  {
   "cell_type": "code",
   "execution_count": 47,
   "metadata": {},
   "outputs": [
    {
     "name": "stdout",
     "output_type": "stream",
     "text": [
      "Direction of the plane formed by the first 2 principal components: [[ 0.04732586 -0.75694464  0.05041621  0.3287462  -0.25543734  0.24298967\n",
      "   0.31315648 -0.0457064   0.07084292  0.29105366]\n",
      " [ 0.26978587 -0.22294344  0.62154962 -0.06075614 -0.12742787 -0.1366051\n",
      "  -0.52379048 -0.29620584 -0.29200073 -0.07238067]]\n",
      "Sum of distances for the plane formed by the first 2 principal components: 1030.4159959400874\n"
     ]
    }
   ],
   "source": [
    "# Calculate the mean of the data\n",
    "mean = np.mean(X, axis=0)\n",
    "\n",
    "# Calculate the sum of distances between samples and the plane formed by the first 2 principal components\n",
    "sum_of_distances = 0\n",
    "for i in range(X.shape[0]):\n",
    "    distance = np.linalg.norm(X[i] - mean - PC[i, 0] * Vt[0, :] - PC[i, 1] * Vt[1, :])\n",
    "    sum_of_distances += distance\n",
    "\n",
    "print(\"Direction of the plane formed by the first 2 principal components:\", Vt[:2, :])\n",
    "print(\"Sum of distances for the plane formed by the first 2 principal components:\", sum_of_distances)\n"
   ]
  },
  {
   "cell_type": "markdown",
   "metadata": {},
   "source": [
    "### (c) Generate 50 random planes and calculate the sum of distances between the samples and each one of the planes. Verify that the sum distances are the least for the plane obtained from principal components"
   ]
  },
  {
   "cell_type": "code",
   "execution_count": 48,
   "metadata": {},
   "outputs": [
    {
     "name": "stdout",
     "output_type": "stream",
     "text": [
      "Sum of distances for the best plane obtained from random planes: 1132.264611741975\n",
      "Distance from the plane formed by the first 2 principal components is: 1030.4159959400874\n"
     ]
    }
   ],
   "source": [
    "# Generate 50 random planes and calculate the sum of distances for each plane\n",
    "num_planes = 50\n",
    "min_sum_of_distances = float('inf')\n",
    "best_plane = None\n",
    "\n",
    "for _ in range(num_planes):\n",
    "    random_normal = np.random.normal(size=10)\n",
    "    random_normal /= np.linalg.norm(random_normal)\n",
    "    \n",
    "    sum_of_dist = 0\n",
    "    for i in range(X.shape[0]):\n",
    "        distance = np.linalg.norm(X[i] - mean - np.dot(X[i] - mean, random_normal) * random_normal)\n",
    "        sum_of_dist += distance\n",
    "        \n",
    "    if sum_of_dist < min_sum_of_distances:\n",
    "        min_sum_of_distances = sum_of_dist\n",
    "        best_plane = random_normal\n",
    "\n",
    "print(\"Sum of distances for the best plane obtained from random planes:\", min_sum_of_distances)\n",
    "print(\"Distance from the plane formed by the first 2 principal components is:\", sum_of_distances)"
   ]
  },
  {
   "cell_type": "markdown",
   "metadata": {},
   "source": [
    "### Hence it is verified that the sum distances are the least for the plane obtained from principal components"
   ]
  },
  {
   "cell_type": "markdown",
   "metadata": {},
   "source": []
  }
 ],
 "metadata": {
  "kernelspec": {
   "display_name": "Python 3",
   "language": "python",
   "name": "python3"
  },
  "language_info": {
   "codemirror_mode": {
    "name": "ipython",
    "version": 3
   },
   "file_extension": ".py",
   "mimetype": "text/x-python",
   "name": "python",
   "nbconvert_exporter": "python",
   "pygments_lexer": "ipython3",
   "version": "3.11.5"
  },
  "orig_nbformat": 4
 },
 "nbformat": 4,
 "nbformat_minor": 2
}
