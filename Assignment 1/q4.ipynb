{
 "cells": [
  {
   "cell_type": "markdown",
   "metadata": {},
   "source": [
    "## 4. IRIS dataset has four features: sepal length, sepal width, petal length, and petal width that can be used to identify the kind of IRIS species."
   ]
  },
  {
   "cell_type": "code",
   "execution_count": 1,
   "metadata": {},
   "outputs": [],
   "source": [
    "import matplotlib.pyplot as plt\n",
    "import pandas as pd\n",
    "import numpy as np"
   ]
  },
  {
   "cell_type": "code",
   "execution_count": 2,
   "metadata": {},
   "outputs": [],
   "source": [
    "# Load the dataset from a CSV file\n",
    "df = pd.read_csv('Iris.csv')"
   ]
  },
  {
   "cell_type": "code",
   "execution_count": 3,
   "metadata": {},
   "outputs": [
    {
     "name": "stdout",
     "output_type": "stream",
     "text": [
      "   Id  SepalLengthCm  SepalWidthCm  PetalLengthCm  PetalWidthCm      Species\n",
      "0   1            5.1           3.5            1.4           0.2  Iris-setosa\n",
      "1   2            4.9           3.0            1.4           0.2  Iris-setosa\n",
      "2   3            4.7           3.2            1.3           0.2  Iris-setosa\n",
      "3   4            4.6           3.1            1.5           0.2  Iris-setosa\n",
      "4   5            5.0           3.6            1.4           0.2  Iris-setosa\n"
     ]
    }
   ],
   "source": [
    "print(df.head())"
   ]
  },
  {
   "cell_type": "code",
   "execution_count": 4,
   "metadata": {},
   "outputs": [
    {
     "data": {
      "text/plain": [
       "(150, 6)"
      ]
     },
     "execution_count": 4,
     "metadata": {},
     "output_type": "execute_result"
    }
   ],
   "source": [
    "df.shape"
   ]
  },
  {
   "cell_type": "code",
   "execution_count": 5,
   "metadata": {},
   "outputs": [],
   "source": [
    "# Exclude the \"Id\" and \"Species\" columns and keep only the feature columns\n",
    "# You can select the columns you want to include in PCA\n",
    "feature_columns = [\"SepalLengthCm\", \"SepalWidthCm\", \"PetalLengthCm\", \"PetalWidthCm\"]\n",
    "X = df[feature_columns].values\n",
    "y = df[\"Species\"].values"
   ]
  },
  {
   "cell_type": "code",
   "execution_count": 6,
   "metadata": {},
   "outputs": [
    {
     "name": "stdout",
     "output_type": "stream",
     "text": [
      "[[5.1 3.5 1.4 0.2]\n",
      " [4.9 3.  1.4 0.2]\n",
      " [4.7 3.2 1.3 0.2]\n",
      " [4.6 3.1 1.5 0.2]\n",
      " [5.  3.6 1.4 0.2]\n",
      " [5.4 3.9 1.7 0.4]\n",
      " [4.6 3.4 1.4 0.3]\n",
      " [5.  3.4 1.5 0.2]\n",
      " [4.4 2.9 1.4 0.2]\n",
      " [4.9 3.1 1.5 0.1]]\n",
      "['Iris-setosa' 'Iris-setosa' 'Iris-setosa' 'Iris-setosa' 'Iris-setosa'\n",
      " 'Iris-setosa' 'Iris-setosa' 'Iris-setosa' 'Iris-setosa' 'Iris-setosa']\n"
     ]
    }
   ],
   "source": [
    "print(X[:10])\n",
    "print(y[:10])"
   ]
  },
  {
   "cell_type": "code",
   "execution_count": 7,
   "metadata": {},
   "outputs": [],
   "source": [
    "# Standardize the feature data\n",
    "X_scaled = (X - X.mean(axis=0)) / X.std(axis=0)"
   ]
  },
  {
   "cell_type": "code",
   "execution_count": 8,
   "metadata": {},
   "outputs": [],
   "source": [
    "np.random.seed(42)"
   ]
  },
  {
   "cell_type": "markdown",
   "metadata": {},
   "source": [
    "### (a) Perform PCA on the given dataset and reduce the dimension to two"
   ]
  },
  {
   "cell_type": "code",
   "execution_count": 9,
   "metadata": {},
   "outputs": [],
   "source": [
    "# SVD\n",
    "U,S,Vt = np.linalg.svd(X_scaled)"
   ]
  },
  {
   "cell_type": "code",
   "execution_count": 10,
   "metadata": {},
   "outputs": [],
   "source": [
    "# Function to get the principal components \n",
    "def get_principal_comps (X, Vt,n):\n",
    "    # X: data matrix, Vt: right singular matrix\n",
    "    PC = X@(Vt.T)\n",
    "    return PC[:,:n]\n",
    "\n",
    "# Function to reconstruct the images \n",
    "def reconstruct_data_mat (PC, Vt,n):\n",
    "    # PC: principal components. Vt: Right singular matrix\n",
    "    X_ = PC@(Vt[:n, :])\n",
    "    return X_"
   ]
  },
  {
   "cell_type": "code",
   "execution_count": 11,
   "metadata": {},
   "outputs": [],
   "source": [
    "n_reduced = 2\n",
    "PC_reduced = get_principal_comps(X_scaled,Vt,n_reduced)"
   ]
  },
  {
   "cell_type": "code",
   "execution_count": 12,
   "metadata": {},
   "outputs": [
    {
     "name": "stdout",
     "output_type": "stream",
     "text": [
      "[[-2.26454173e+00 -5.05703903e-01]\n",
      " [-2.08642550e+00  6.55404729e-01]\n",
      " [-2.36795045e+00  3.18477311e-01]\n",
      " [-2.30419716e+00  5.75367713e-01]\n",
      " [-2.38877749e+00 -6.74767397e-01]\n",
      " [-2.07053681e+00 -1.51854856e+00]\n",
      " [-2.44571134e+00 -7.45626750e-02]\n",
      " [-2.23384186e+00 -2.47613932e-01]\n",
      " [-2.34195768e+00  1.09514636e+00]\n",
      " [-2.18867576e+00  4.48629048e-01]\n",
      " [-2.16348656e+00 -1.07059558e+00]\n",
      " [-2.32737775e+00 -1.58587455e-01]\n",
      " [-2.22408272e+00  7.09118158e-01]\n",
      " [-2.63971626e+00  9.38281982e-01]\n",
      " [-2.19229151e+00 -1.88997851e+00]\n",
      " [-2.25146521e+00 -2.72237108e+00]\n",
      " [-2.20275048e+00 -1.51375028e+00]\n",
      " [-2.19017916e+00 -5.14304308e-01]\n",
      " [-1.89407429e+00 -1.43111071e+00]\n",
      " [-2.33994907e+00 -1.15803343e+00]\n",
      " [-1.91455639e+00 -4.30465163e-01]\n",
      " [-2.20464540e+00 -9.52457317e-01]\n",
      " [-2.77416979e+00 -4.89517027e-01]\n",
      " [-1.82041156e+00 -1.06750793e-01]\n",
      " [-2.22821750e+00 -1.62186163e-01]\n",
      " [-1.95702401e+00  6.07892567e-01]\n",
      " [-2.05206331e+00 -2.66014312e-01]\n",
      " [-2.16819365e+00 -5.52016495e-01]\n",
      " [-2.14030596e+00 -3.36640409e-01]\n",
      " [-2.26879019e+00  3.14878603e-01]\n",
      " [-2.14455443e+00  4.83942097e-01]\n",
      " [-1.83193810e+00 -4.45266836e-01]\n",
      " [-2.60820287e+00 -1.82847519e+00]\n",
      " [-2.43795086e+00 -2.18539162e+00]\n",
      " [-2.18867576e+00  4.48629048e-01]\n",
      " [-2.21111990e+00  1.84337811e-01]\n",
      " [-2.04441652e+00 -6.84956426e-01]\n",
      " [-2.18867576e+00  4.48629048e-01]\n",
      " [-2.43595220e+00  8.82169415e-01]\n",
      " [-2.17054720e+00 -2.92726955e-01]\n",
      " [-2.28652724e+00 -4.67991716e-01]\n",
      " [-1.87170722e+00  2.32769161e+00]\n",
      " [-2.55783442e+00  4.53816380e-01]\n",
      " [-1.96427929e+00 -4.97391640e-01]\n",
      " [-2.13337283e+00 -1.17143211e+00]\n",
      " [-2.07535759e+00  6.91917347e-01]\n",
      " [-2.38125822e+00 -1.15063259e+00]\n",
      " [-2.39819169e+00  3.62390765e-01]\n",
      " [-2.22678121e+00 -1.02548255e+00]\n",
      " [-2.20595417e+00 -3.22378453e-02]\n",
      " [ 1.10399365e+00 -8.63112446e-01]\n",
      " [ 7.32481440e-01 -5.98635573e-01]\n",
      " [ 1.24210951e+00 -6.14822450e-01]\n",
      " [ 3.97307283e-01  1.75816895e+00]\n",
      " [ 1.07259395e+00  2.11757903e-01]\n",
      " [ 3.84458146e-01  5.91062469e-01]\n",
      " [ 7.48715076e-01 -7.78698611e-01]\n",
      " [-4.97863388e-01  1.84886877e+00]\n",
      " [ 9.26222368e-01 -3.03308268e-02]\n",
      " [ 4.96802558e-03  1.02940111e+00]\n",
      " [-1.24697461e-01  2.65806268e+00]\n",
      " [ 4.38730118e-01  5.88812850e-02]\n",
      " [ 5.51633981e-01  1.77258156e+00]\n",
      " [ 7.17165066e-01  1.85434315e-01]\n",
      " [-3.72583830e-02  4.32795099e-01]\n",
      " [ 8.75890536e-01 -5.09998151e-01]\n",
      " [ 3.48006402e-01  1.90621647e-01]\n",
      " [ 1.53392545e-01  7.90725456e-01]\n",
      " [ 1.21530321e+00  1.63335564e+00]\n",
      " [ 1.56941176e-01  1.30310327e+00]\n",
      " [ 7.38256104e-01 -4.02470382e-01]\n",
      " [ 4.72369682e-01  4.16608222e-01]\n",
      " [ 1.22798821e+00  9.40914793e-01]\n",
      " [ 6.29381045e-01  4.16811643e-01]\n",
      " [ 7.00472799e-01  6.34939277e-02]\n",
      " [ 8.73536987e-01 -2.50708611e-01]\n",
      " [ 1.25422219e+00  8.26200998e-02]\n",
      " [ 1.35823985e+00 -3.28820266e-01]\n",
      " [ 6.62126138e-01  2.24346071e-01]\n",
      " [-4.72815133e-02  1.05721241e+00]\n",
      " [ 1.21534209e-01  1.56359238e+00]\n",
      " [ 1.41182261e-02  1.57339235e+00]\n",
      " [ 2.36010837e-01  7.75923784e-01]\n",
      " [ 1.05669143e+00  6.36901284e-01]\n",
      " [ 2.21417088e-01  2.80847693e-01]\n",
      " [ 4.31783161e-01 -8.55136920e-01]\n",
      " [ 1.04941336e+00 -5.22197265e-01]\n",
      " [ 1.03587821e+00  1.39246648e+00]\n",
      " [ 6.70675999e-02  2.12620735e-01]\n",
      " [ 2.75425066e-01  1.32981591e+00]\n",
      " [ 2.72335066e-01  1.11944152e+00]\n",
      " [ 6.23170540e-01 -2.75426333e-02]\n",
      " [ 3.30005364e-01  9.88900732e-01]\n",
      " [-3.73627623e-01  2.01793227e+00]\n",
      " [ 2.82944343e-01  8.53950717e-01]\n",
      " [ 8.90531103e-02  1.74908548e-01]\n",
      " [ 2.24356783e-01  3.80484659e-01]\n",
      " [ 5.73883486e-01  1.53719974e-01]\n",
      " [-4.57012873e-01  1.53946451e+00]\n",
      " [ 2.52244473e-01  5.95860746e-01]\n",
      " [ 1.84767259e+00 -8.71696662e-01]\n",
      " [ 1.15318981e+00  7.01326114e-01]\n",
      " [ 2.20634950e+00 -5.54470105e-01]\n",
      " [ 1.43868540e+00  5.00105223e-02]\n",
      " [ 1.86789070e+00 -2.91192802e-01]\n",
      " [ 2.75419671e+00 -7.88432206e-01]\n",
      " [ 3.58374475e-01  1.56009458e+00]\n",
      " [ 2.30300590e+00 -4.09516695e-01]\n",
      " [ 2.00173530e+00  7.23865359e-01]\n",
      " [ 2.26755460e+00 -1.92144299e+00]\n",
      " [ 1.36590943e+00 -6.93948040e-01]\n",
      " [ 1.59906459e+00  4.28248836e-01]\n",
      " [ 1.88425185e+00 -4.14332758e-01]\n",
      " [ 1.25308651e+00  1.16739134e+00]\n",
      " [ 1.46406152e+00  4.44147569e-01]\n",
      " [ 1.59180930e+00 -6.77035372e-01]\n",
      " [ 1.47128019e+00 -2.53192472e-01]\n",
      " [ 2.43737848e+00 -2.55675734e+00]\n",
      " [ 3.30914118e+00  2.36132010e-03]\n",
      " [ 1.25398099e+00  1.71758384e+00]\n",
      " [ 2.04049626e+00 -9.07398765e-01]\n",
      " [ 9.73915114e-01  5.71174376e-01]\n",
      " [ 2.89806444e+00 -3.97791359e-01]\n",
      " [ 1.32919369e+00  4.86760542e-01]\n",
      " [ 1.70424071e+00 -1.01414842e+00]\n",
      " [ 1.95772766e+00 -1.00333452e+00]\n",
      " [ 1.17190451e+00  3.18896617e-01]\n",
      " [ 1.01978105e+00 -6.55429631e-02]\n",
      " [ 1.78600886e+00  1.93272800e-01]\n",
      " [ 1.86477791e+00 -5.55381532e-01]\n",
      " [ 2.43549739e+00 -2.46654468e-01]\n",
      " [ 2.31608241e+00 -2.62618387e+00]\n",
      " [ 1.86037143e+00  1.84672394e-01]\n",
      " [ 1.11127173e+00  2.95986102e-01]\n",
      " [ 1.19746916e+00  8.17167742e-01]\n",
      " [ 2.80094940e+00 -8.44748194e-01]\n",
      " [ 1.58015525e+00 -1.07247450e+00]\n",
      " [ 1.34704442e+00 -4.22255966e-01]\n",
      " [ 9.23432978e-01 -1.92303705e-02]\n",
      " [ 1.85355198e+00 -6.72422729e-01]\n",
      " [ 2.01615720e+00 -6.10397038e-01]\n",
      " [ 1.90311686e+00 -6.86024832e-01]\n",
      " [ 1.15318981e+00  7.01326114e-01]\n",
      " [ 2.04330844e+00 -8.64684880e-01]\n",
      " [ 2.00169097e+00 -1.04855005e+00]\n",
      " [ 1.87052207e+00 -3.82821838e-01]\n",
      " [ 1.55849189e+00  9.05313601e-01]\n",
      " [ 1.52084506e+00 -2.66794575e-01]\n",
      " [ 1.37639119e+00 -1.01636193e+00]\n",
      " [ 9.59298576e-01  2.22839447e-02]]\n"
     ]
    }
   ],
   "source": [
    "print(PC_reduced)"
   ]
  },
  {
   "cell_type": "code",
   "execution_count": 13,
   "metadata": {},
   "outputs": [
    {
     "data": {
      "text/plain": [
       "array(['Iris-setosa', 'Iris-versicolor', 'Iris-virginica'], dtype=object)"
      ]
     },
     "execution_count": 13,
     "metadata": {},
     "output_type": "execute_result"
    }
   ],
   "source": [
    "df[\"Species\"].unique()"
   ]
  },
  {
   "cell_type": "markdown",
   "metadata": {},
   "source": [
    "### (b) Plot the newly obtained features (Principal components) discriminating the species type"
   ]
  },
  {
   "cell_type": "code",
   "execution_count": 15,
   "metadata": {},
   "outputs": [
    {
     "data": {
      "image/png": "[encoded data removed]",
      "text/plain": [
       "<Figure size 800x600 with 1 Axes>"
      ]
     },
     "metadata": {},
     "output_type": "display_data"
    }
   ],
   "source": [
    "# Add the \"Species\" column back to the PCA results\n",
    "X_pca_with_species = pd.DataFrame(data=PC_reduced, columns=[\"PC1\", \"PC2\"])\n",
    "X_pca_with_species[\"Species\"] = df[\"Species\"]\n",
    "\n",
    "# Create a scatter plot for PCA results discriminating by species\n",
    "species_labels = df[\"Species\"].unique()\n",
    "colors = ['r', 'g', 'b']  # Define colors for each species\n",
    "\n",
    "plt.figure(figsize=(8, 6))\n",
    "for i, species in enumerate(species_labels):\n",
    "    subset = X_pca_with_species[X_pca_with_species[\"Species\"] == species]\n",
    "    plt.scatter(subset[\"PC1\"], subset[\"PC2\"], c=colors[i], label=species)\n",
    "\n",
    "plt.xlabel(\"Principal Component 1\")\n",
    "plt.ylabel(\"Principal Component 2\")\n",
    "plt.title(\"PCA: Principal Components Discriminating Species\")\n",
    "plt.legend()\n",
    "plt.grid(True)\n",
    "plt.show()"
   ]
  },
  {
   "cell_type": "markdown",
   "metadata": {},
   "source": [
    "### (c) Identify which one of the four features can be used to discriminate between the species (Use the coefficient of principal components to answer)"
   ]
  },
  {
   "cell_type": "code",
   "execution_count": 16,
   "metadata": {},
   "outputs": [
    {
     "name": "stdout",
     "output_type": "stream",
     "text": [
      "Coefficients of Features in PC1:\n",
      "         Feature  Coefficient_PC1\n",
      "0  SepalLengthCm         0.522372\n",
      "1   SepalWidthCm        -0.263355\n",
      "2  PetalLengthCm         0.581254\n",
      "3   PetalWidthCm         0.565611\n"
     ]
    }
   ],
   "source": [
    "# Get the coefficients (loadings) of the original features in PC1\n",
    "coefficients_pc1 = Vt[0, :]  # Assuming Vt is the right singular matrix from SVD\n",
    "\n",
    "# Create a DataFrame to display the coefficients for each feature\n",
    "coefficients_df1 = pd.DataFrame(data={'Feature': feature_columns, 'Coefficient_PC1': coefficients_pc1})\n",
    "\n",
    "# Find the feature with the highest absolute coefficient in PC1\n",
    "most_discriminative_feature1 = coefficients_df1.loc[coefficients_df1['Coefficient_PC1'].abs().idxmax()]\n",
    "\n",
    "print(\"Coefficients of Features in PC1:\")\n",
    "print(coefficients_df1)"
   ]
  },
  {
   "cell_type": "code",
   "execution_count": 20,
   "metadata": {},
   "outputs": [
    {
     "name": "stdout",
     "output_type": "stream",
     "text": [
      "\n",
      "Most Discriminative Feature in PC1 and overall is:\n",
      "Feature: PetalLengthCm   Weight (Coefficient): 0.581254\n"
     ]
    }
   ],
   "source": [
    "print(\"\\nMost Discriminative Feature in PC1 and overall is:\")\n",
    "print(f\"Feature: {most_discriminative_feature1['Feature']:15s} Weight (Coefficient): {most_discriminative_feature1['Coefficient_PC1']:.6f}\")"
   ]
  },
  {
   "cell_type": "markdown",
   "metadata": {},
   "source": [
    "### Therefore, the most discriminative feature overall should be PetalLengthCm because it has the highest weight on the First Principal Component. "
   ]
  },
  {
   "cell_type": "markdown",
   "metadata": {},
   "source": [
    "#### Similarly we can take the variable with highest weight on second component (SepalWidthCm), but however it is not very relevant because it is only the second principal component."
   ]
  },
  {
   "cell_type": "code",
   "execution_count": 21,
   "metadata": {},
   "outputs": [
    {
     "name": "stdout",
     "output_type": "stream",
     "text": [
      "Coefficients of Features in PC2:\n",
      "         Feature  Coefficient_PC2\n",
      "0  SepalLengthCm        -0.372318\n",
      "1   SepalWidthCm        -0.925556\n",
      "2  PetalLengthCm        -0.021095\n",
      "3   PetalWidthCm        -0.065416\n"
     ]
    }
   ],
   "source": [
    "# Get the coefficients (loadings) of the original features in PC1\n",
    "coefficients_pc2 = Vt[1, :]  # Assuming Vt is the right singular matrix from SVD\n",
    "\n",
    "# Create a DataFrame to display the coefficients for each feature\n",
    "coefficients_df2 = pd.DataFrame(data={'Feature': feature_columns, 'Coefficient_PC2': coefficients_pc2})\n",
    "\n",
    "# Find the feature with the highest absolute coefficient in PC1\n",
    "most_discriminative_feature2 = coefficients_df2.loc[coefficients_df2['Coefficient_PC2'].abs().idxmax()]\n",
    "\n",
    "print(\"Coefficients of Features in PC2:\")\n",
    "print(coefficients_df2)"
   ]
  },
  {
   "cell_type": "markdown",
   "metadata": {},
   "source": [
    "### Verification"
   ]
  },
  {
   "cell_type": "code",
   "execution_count": 22,
   "metadata": {},
   "outputs": [
    {
     "name": "stdout",
     "output_type": "stream",
     "text": [
      "[ 0.52237162 -0.26335492  0.58125401  0.56561105]\n",
      "Principal Component 1: Most Discriminative Feature: PetalLengthCm\n",
      "[0.37231836 0.92555649 0.02109478 0.06541577]\n",
      "Principal Component 2: Most Discriminative Feature: SepalWidthCm\n"
     ]
    }
   ],
   "source": [
    "import pandas as pd\n",
    "import numpy as np\n",
    "import matplotlib.pyplot as plt\n",
    "from sklearn.decomposition import PCA\n",
    "from sklearn.preprocessing import StandardScaler\n",
    "\n",
    "# Load the dataset from a CSV file\n",
    "df = pd.read_csv('Iris.csv')\n",
    "\n",
    "feature_columns = [\"SepalLengthCm\", \"SepalWidthCm\", \"PetalLengthCm\", \"PetalWidthCm\"]\n",
    "X = df[feature_columns].values\n",
    "y = df[\"Species\"].values\n",
    "\n",
    "# Standardize the feature data\n",
    "scaler = StandardScaler()\n",
    "X_scaled = scaler.fit_transform(X)\n",
    "\n",
    "# Perform PCA and reduce dimension to two principal components\n",
    "pca = PCA(n_components=2)\n",
    "X_pca = pca.fit_transform(X_scaled)\n",
    "\n",
    "# Get the coefficients (loadings) of original features for the two principal components\n",
    "coefficients = pca.components_\n",
    "\n",
    "# Analyze coefficients to find which features contribute the most to each component\n",
    "for i, component in enumerate(coefficients):\n",
    "    print(coefficients[i])\n",
    "    most_discriminative_feature = feature_columns[np.argmax(np.abs(component))]\n",
    "    print(f\"Principal Component {i + 1}: Most Discriminative Feature: {most_discriminative_feature}\")"
   ]
  },
  {
   "cell_type": "code",
   "execution_count": null,
   "metadata": {},
   "outputs": [],
   "source": []
  }
 ],
 "metadata": {
  "kernelspec": {
   "display_name": "Python 3",
   "language": "python",
   "name": "python3"
  },
  "language_info": {
   "codemirror_mode": {
    "name": "ipython",
    "version": 3
   },
   "file_extension": ".py",
   "mimetype": "text/x-python",
   "name": "python",
   "nbconvert_exporter": "python",
   "pygments_lexer": "ipython3",
   "version": "3.11.5"
  },
  "orig_nbformat": 4
 },
 "nbformat": 4,
 "nbformat_minor": 2
}
